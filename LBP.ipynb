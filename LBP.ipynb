{
 "cells": [
  {
   "cell_type": "code",
   "execution_count": 2,
   "metadata": {},
   "outputs": [],
   "source": [
    "#import OpenCV library\n",
    "import cv2\n",
    "#import matplotlib library\n",
    "import matplotlib.pyplot as plt\n",
    "#importing time library for speed comparisons of both classifiers\n",
    "import time"
   ]
  },
  {
   "cell_type": "code",
   "execution_count": 4,
   "metadata": {},
   "outputs": [],
   "source": [
    "def detect_faces(f_cascade, colored_img, scaleFactor):\n",
    " #just making a copy of image passed, so that passed image is not changed \n",
    " img_copy = colored_img.copy()          \n",
    "\n",
    " #convert the test image to gray image as opencv face detector expects gray images\n",
    " gray = cv2.cvtColor(img_copy, cv2.COLOR_BGR2GRAY)          \n",
    "\n",
    " #let's detect multiscale (some images may be closer to camera than others) images\n",
    " faces = f_cascade.detectMultiScale(gray, scaleFactor=scaleFactor, minNeighbors=5);\n",
    " print(len(faces))\n",
    "\n",
    " #go over list of faces and draw them as rectangles on original colored img\n",
    " for (x, y, w, h) in faces:\n",
    "      cv2.rectangle(img_copy, (x, y), (x+w, y+h), (0, 255, 0), 2)\n",
    "\n",
    " return img_copy"
   ]
  },
  {
   "cell_type": "code",
   "execution_count": 5,
   "metadata": {},
   "outputs": [
    {
     "name": "stdout",
     "output_type": "stream",
     "text": [
      "8\n"
     ]
    },
    {
     "ename": "NameError",
     "evalue": "name 'convertToRGB' is not defined",
     "output_type": "error",
     "traceback": [
      "\u001b[1;31m---------------------------------------------------------------------------\u001b[0m",
      "\u001b[1;31mNameError\u001b[0m                                 Traceback (most recent call last)",
      "\u001b[1;32m<ipython-input-5-551cbe596f03>\u001b[0m in \u001b[0;36m<module>\u001b[1;34m()\u001b[0m\n\u001b[0;32m      9\u001b[0m \u001b[1;33m\u001b[0m\u001b[0m\n\u001b[0;32m     10\u001b[0m \u001b[1;31m#convert image to RGB and show image\u001b[0m\u001b[1;33m\u001b[0m\u001b[1;33m\u001b[0m\u001b[0m\n\u001b[1;32m---> 11\u001b[1;33m \u001b[0mplt\u001b[0m\u001b[1;33m.\u001b[0m\u001b[0mimshow\u001b[0m\u001b[1;33m(\u001b[0m\u001b[0mconvertToRGB\u001b[0m\u001b[1;33m(\u001b[0m\u001b[0mfaces_detected_img\u001b[0m\u001b[1;33m)\u001b[0m\u001b[1;33m)\u001b[0m\u001b[1;33m\u001b[0m\u001b[0m\n\u001b[0m",
      "\u001b[1;31mNameError\u001b[0m: name 'convertToRGB' is not defined"
     ]
    }
   ],
   "source": [
    "#load cascade classifier training file for lbpcascade \n",
    "lbp_face_cascade = cv2.CascadeClassifier('data/lbpcascade_frontalface.xml')  \n",
    "\n",
    "#load test image \n",
    "test2 = cv2.imread('data/test2.jpg') \n",
    "\n",
    "#call our function to detect faces \n",
    "faces_detected_img = detect_faces(lbp_face_cascade, test2, 1.1)  \n",
    "\n",
    "#convert image to RGB and show image \n",
    "plt.imshow(convertToRGB(faces_detected_img))"
   ]
  },
  {
   "cell_type": "code",
   "execution_count": null,
   "metadata": {},
   "outputs": [],
   "source": []
  }
 ],
 "metadata": {
  "kernelspec": {
   "display_name": "Python 3",
   "language": "python",
   "name": "python3"
  },
  "language_info": {
   "codemirror_mode": {
    "name": "ipython",
    "version": 3
   },
   "file_extension": ".py",
   "mimetype": "text/x-python",
   "name": "python",
   "nbconvert_exporter": "python",
   "pygments_lexer": "ipython3",
   "version": "3.6.3"
  }
 },
 "nbformat": 4,
 "nbformat_minor": 2
}
