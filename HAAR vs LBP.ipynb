{
 "cells": [
  {
   "cell_type": "code",
   "execution_count": 1,
   "metadata": {},
   "outputs": [],
   "source": [
    "#import OpenCV library\n",
    "import cv2\n",
    "#import matplotlib library\n",
    "import matplotlib.pyplot as plt\n",
    "#importing time library for speed comparisons of both classifiers\n",
    "import time\n",
    "\n",
    "def convertToRGB(img): \n",
    "    return cv2.cvtColor(img, cv2.COLOR_BGR2RGB)\n",
    "\n",
    "def detect_faces(f_cascade, colored_img, scaleFactor):\n",
    " #just making a copy of image passed, so that passed image is not changed \n",
    " img_copy = colored_img.copy()          \n",
    "\n",
    " #convert the test image to gray image as opencv face detector expects gray images\n",
    " gray = cv2.cvtColor(img_copy, cv2.COLOR_BGR2GRAY)          \n",
    "\n",
    " #let's detect multiscale (some images may be closer to camera than others) images\n",
    " faces = f_cascade.detectMultiScale(gray, scaleFactor=scaleFactor, minNeighbors=5);\n",
    " print(len(faces))\n",
    "\n",
    " #go over list of faces and draw them as rectangles on original colored img\n",
    " for (x, y, w, h) in faces:\n",
    "      cv2.rectangle(img_copy, (x, y), (x+w, y+h), (0, 255, 0), 2)\n",
    "\n",
    " return img_copy"
   ]
  },
  {
   "cell_type": "code",
   "execution_count": 4,
   "metadata": {},
   "outputs": [],
   "source": [
    "#load cascade classifier training file for haarcascade \n",
    "haar_face_cascade = cv2.CascadeClassifier('data/haarcascade_frontalface_alt.xml') \n",
    "#load cascade classifier training file for lbpcascade \n",
    "lbp_face_cascade = cv2.CascadeClassifier('data/lbpcascade_frontalface.xml')  \n",
    "\n",
    "#load test image1 \n",
    "test1 = cv2.imread('data/test2.jpg') \n",
    "#load test image2 \n",
    "test2 = cv2.imread('data/test4.jpg')"
   ]
  },
  {
   "cell_type": "code",
   "execution_count": 6,
   "metadata": {},
   "outputs": [
    {
     "name": "stdout",
     "output_type": "stream",
     "text": [
      "6\n",
      "14.125088214874268\n"
     ]
    }
   ],
   "source": [
    "#------------HAAR----------- \n",
    "#note time before detection \n",
    "t1 = time.time()  \n",
    "\n",
    "#call our function to detect faces \n",
    "haar_detected_img = detect_faces(haar_face_cascade, test1, 1.1)  \n",
    "\n",
    "#note time after detection \n",
    "t2 = time.time() \n",
    "#calculate time difference \n",
    "dt1 = t2 - t1 \n",
    "#print the time difference\n",
    "print (dt1)"
   ]
  },
  {
   "cell_type": "code",
   "execution_count": null,
   "metadata": {},
   "outputs": [],
   "source": [
    "#------------LBP----------- \n",
    "#note time before detection \n",
    "t1 = time.time()  \n",
    "\n",
    "#call our function to detect faces \n",
    "haar_detected_img = detect_faces(lbp_face_cascade, test1, 1.1)  \n",
    "\n",
    "#note time after detection \n",
    "t2 = time.time() \n",
    "#calculate time difference \n",
    "dt1 = t2 - t1 \n",
    "#print the time difference\n",
    "print (dt1)"
   ]
  }
 ],
 "metadata": {
  "kernelspec": {
   "display_name": "Python 3",
   "language": "python",
   "name": "python3"
  },
  "language_info": {
   "codemirror_mode": {
    "name": "ipython",
    "version": 3
   },
   "file_extension": ".py",
   "mimetype": "text/x-python",
   "name": "python",
   "nbconvert_exporter": "python",
   "pygments_lexer": "ipython3",
   "version": "3.6.3"
  }
 },
 "nbformat": 4,
 "nbformat_minor": 2
}
