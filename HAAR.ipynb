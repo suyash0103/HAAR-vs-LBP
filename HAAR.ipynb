{
 "cells": [
  {
   "cell_type": "code",
   "execution_count": 5,
   "metadata": {},
   "outputs": [],
   "source": [
    "#import required libraries\n",
    "#import OpenCV library\n",
    "import cv2\n",
    "#import matplotlib library\n",
    "import matplotlib.pyplot as plt\n",
    "#importing time library for speed comparisons of both classifiers\n",
    "import time\n",
    "#%matplotlib inline"
   ]
  },
  {
   "cell_type": "code",
   "execution_count": 2,
   "metadata": {},
   "outputs": [],
   "source": [
    "def convertToRGB(img): \n",
    "    return cv2.cvtColor(img, cv2.COLOR_BGR2RGB)"
   ]
  },
  {
   "cell_type": "code",
   "execution_count": null,
   "metadata": {},
   "outputs": [],
   "source": [
    "#load test iamge\n",
    "test1 = cv2.imread('data/test1.jpg')\n",
    "#convert the test image to gray image as opencv face detector expects gray images \n",
    "gray_img = cv2.cvtColor(test1, cv2.COLOR_BGR2GRAY)"
   ]
  }
 ],
 "metadata": {
  "kernelspec": {
   "display_name": "Python 3",
   "language": "python",
   "name": "python3"
  },
  "language_info": {
   "codemirror_mode": {
    "name": "ipython",
    "version": 3
   },
   "file_extension": ".py",
   "mimetype": "text/x-python",
   "name": "python",
   "nbconvert_exporter": "python",
   "pygments_lexer": "ipython3",
   "version": "3.6.3"
  }
 },
 "nbformat": 4,
 "nbformat_minor": 2
}
